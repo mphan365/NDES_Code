{
 "cells": [
  {
   "cell_type": "code",
   "execution_count": 1,
   "metadata": {
    "collapsed": true
   },
   "outputs": [],
   "source": [
    "import glob"
   ]
  },
  {
   "cell_type": "code",
   "execution_count": 2,
   "metadata": {
    "collapsed": true
   },
   "outputs": [],
   "source": [
    "all_files = glob.glob(\"../data/processed/*.csv\")"
   ]
  },
  {
   "cell_type": "code",
   "execution_count": 3,
   "metadata": {},
   "outputs": [
    {
     "data": {
      "text/plain": [
       "['../data/processed/2019_07_15_1957_5_3hosp_austin_vicsim_codestroke_usage.csv',\n",
       " '../data/processed/2019_07_15_1952_3_4hosp_vicsim_simdata.csv',\n",
       " '../data/processed/2019_07_15_1947_3_3hosp_austin_vicsim_acutebed_usage.csv',\n",
       " '../data/processed/2019_07_15_1959_5_3hosp_alfred_vicsim_acutebed_usage.csv',\n",
       " '../data/processed/2019_07_15_1954_5_2hosp_vicsim_codestroke_usage.csv',\n",
       " '../data/processed/2019_07_15_2018_15_3hosp_austin_vicsim_codestroke_usage.csv',\n",
       " '../data/processed/2019_07_15_2005_10_2hosp_vicsim_dataanal.csv',\n",
       " '../data/processed/2019_07_15_1959_5_3hosp_alfred_vicsim_simdata.csv']"
      ]
     },
     "execution_count": 3,
     "metadata": {},
     "output_type": "execute_result"
    }
   ],
   "source": [
    "all_files[:8]"
   ]
  },
  {
   "cell_type": "code",
   "execution_count": 4,
   "metadata": {
    "collapsed": true
   },
   "outputs": [],
   "source": [
    "ecr_proportion_list = [3, 5, 10, 15]\n",
    "combination_list = [\"2hosp\", \"3hosp_austin\", \"3hosp_alfred\", \"4hosp\"]\n",
    "\n",
    "combination_string_dict = {\n",
    "    \"2hosp\": \"ECR Capable = Monash + RMH\",\n",
    "    \"3hosp_austin\": \"ECR Capable = Monash + RMH + Austin\",\n",
    "    \"3hosp_alfred\": \"ECR Capable = Monash + RMH + Alfred\",\n",
    "    \"4hosp\": \"ECR Capable = Monash + RMH + Austin + Alfred\"\n",
    "}\n",
    "\n",
    "hospital_data_folder = {\n",
    "    \"2hosp\": \"../data/internal/hospitalupdate/2hosp/\",\n",
    "    \"3hosp_austin\": \"../data/internal/hospitalupdate/3hosp/\",\n",
    "    \"3hosp_alfred\": \"../data/internal/hospitalupdate/3hosp_alfred/\",\n",
    "    \"4hosp\": \"../data/internal/hospitalupdate/4hosp/\"\n",
    "}"
   ]
  },
  {
   "cell_type": "code",
   "execution_count": 5,
   "metadata": {
    "collapsed": true
   },
   "outputs": [],
   "source": [
    "import re"
   ]
  },
  {
   "cell_type": "code",
   "execution_count": 6,
   "metadata": {
    "collapsed": true
   },
   "outputs": [],
   "source": [
    "def make_regex(proportion : int, combination : str, datatype : str):\n",
    "    \"\"\"\n",
    "    datatype must be one of:\n",
    "        - \"acutebed_usage\"\n",
    "        - \"codestroke_usage\"\n",
    "        - \"simdata\"\n",
    "        - \"dataanal\"\n",
    "    \"\"\"\n",
    "    regex = r\"../data/processed/(\\d+_\\d+_\\d+_\\d+)_{}_{}_vicsim_{}.csv\".format(\n",
    "        str(proportion),\n",
    "        combination,\n",
    "        datatype,\n",
    "    )\n",
    "    return re.compile(regex)"
   ]
  },
  {
   "cell_type": "code",
   "execution_count": 7,
   "metadata": {
    "collapsed": true
   },
   "outputs": [],
   "source": [
    "regex = make_regex(ecr_proportion_list[2], combination_list[2], \"acutebed_usage\")"
   ]
  },
  {
   "cell_type": "code",
   "execution_count": 8,
   "metadata": {},
   "outputs": [
    {
     "data": {
      "text/plain": [
       "['../data/processed/2019_07_15_2010_10_3hosp_alfred_vicsim_acutebed_usage.csv']"
      ]
     },
     "execution_count": 8,
     "metadata": {},
     "output_type": "execute_result"
    }
   ],
   "source": [
    "[file for file in all_files if regex.match(file)]"
   ]
  },
  {
   "cell_type": "markdown",
   "metadata": {},
   "source": [
    "# Plotting Functions"
   ]
  },
  {
   "cell_type": "code",
   "execution_count": 9,
   "metadata": {
    "collapsed": true
   },
   "outputs": [],
   "source": [
    "%matplotlib inline\n",
    "import numpy as np\n",
    "import pandas as pd\n",
    "import matplotlib.pyplot as plt\n",
    "import os\n",
    "from mpl_toolkits.basemap import Basemap\n",
    "import matplotlib\n",
    "from matplotlib.patches import Polygon\n",
    "from matplotlib.colors import hsv_to_rgb\n",
    "from matplotlib.collections import PatchCollection\n",
    "\n",
    "import shapefile\n",
    "\n",
    "from geopy import distance"
   ]
  },
  {
   "cell_type": "code",
   "execution_count": 10,
   "metadata": {
    "collapsed": true
   },
   "outputs": [],
   "source": [
    "location_data = pd.read_csv('../../data/processed/hospital_data.csv')"
   ]
  },
  {
   "cell_type": "code",
   "execution_count": 11,
   "metadata": {
    "collapsed": true
   },
   "outputs": [],
   "source": [
    "csc_data_dict = {\n",
    "    \"2hosp\": location_data[\n",
    "        (location_data.name == \"Monash Health\") | (location_data.name == \"Royal Melbourne Hospital\")\n",
    "    ],\n",
    "    \"3hosp_austin\": location_data[\n",
    "        (location_data.name == \"Monash Health\") |\n",
    "        (location_data.name == \"Royal Melbourne Hospital\")  |\n",
    "        (location_data.name == \"Austin Health\")\n",
    "    ],\n",
    "    \"3hosp_alfred\": location_data[\n",
    "        (location_data.name == \"Monash Health\") |\n",
    "        (location_data.name == \"Royal Melbourne Hospital\")  |\n",
    "        (location_data.name == \"The Alfred\")        \n",
    "    ],\n",
    "    \"4hosp\": location_data[\n",
    "        (location_data.name == \"Monash Health\") |\n",
    "        (location_data.name == \"Royal Melbourne Hospital\")  |\n",
    "        (location_data.name == \"Austin Health\") |\n",
    "        (location_data.name == \"The Alfred\")\n",
    "    ]\n",
    "}"
   ]
  },
  {
   "cell_type": "code",
   "execution_count": 12,
   "metadata": {
    "collapsed": true
   },
   "outputs": [],
   "source": [
    "def get_hospital_data(combination: str):\n",
    "    hospital_data_columns = [\"name\", \"capacity\", \"acutebedCapacity\", \"nonacutebedCapacity\"]\n",
    "\n",
    "    rural_hospital_data = pd.read_csv(\n",
    "        hospital_data_folder[combination] + \"rhosp.csv\", names=hospital_data_columns\n",
    "    )\n",
    "    rural_hospital_data[\"hospital_type\"] = \"rural\"\n",
    "\n",
    "    peripheral_hospital_data = pd.read_csv(\n",
    "        hospital_data_folder[combination] + \"pschosp.csv\", names=hospital_data_columns\n",
    "    )\n",
    "    peripheral_hospital_data[\"hospital_type\"] = \"peripheral\"\n",
    "\n",
    "    central_hospital_data = pd.read_csv(\n",
    "        hospital_data_folder[combination] + \"cschosp.csv\", names=hospital_data_columns\n",
    "    )\n",
    "    central_hospital_data[\"hospital_type\"] = \"central\"\n",
    "    \n",
    "    hospital_data = pd.concat(\n",
    "        [rural_hospital_data, peripheral_hospital_data, central_hospital_data]\n",
    "    ).set_index(\"name\")  \n",
    "    \n",
    "    central_hospitals = hospital_data[hospital_data.hospital_type == \"central\"].index\n",
    "\n",
    "    angio_dicts = [{\"name\": hospital, \"capacity\": hospital_data.acutebedCapacity.loc[hospital]} for hospital in central_hospitals]\n",
    "\n",
    "    angio_capacities = pd.DataFrame.from_records(angio_dicts).set_index(\"name\")\n",
    "    \n",
    "    return (hospital_data, central_hospitals, angio_capacities)"
   ]
  },
  {
   "cell_type": "code",
   "execution_count": 13,
   "metadata": {
    "collapsed": true
   },
   "outputs": [],
   "source": [
    "def plot_csc(df, csc_data, zoom_scale, show_hospitals=True):\n",
    "    \"\"\" Plots per-patient CSC allocations.\n",
    "    \n",
    "    Args:\n",
    "        df (Pandas.DataFrame): simulation data\n",
    "        zoom_scale (float)\n",
    "    \n",
    "    \"\"\"    \n",
    "    centre = [-37.8, 145]\n",
    "    bbox = [centre[0]-zoom_scale, centre[0]+zoom_scale,\n",
    "            centre[1]-zoom_scale, centre[1]+zoom_scale]\n",
    "\n",
    "    m = Basemap(projection='merc',llcrnrlat=bbox[0],urcrnrlat=bbox[1],\n",
    "                llcrnrlon=bbox[2],urcrnrlon=bbox[3],lat_ts=10,resolution='i')\n",
    "    m.drawcoastlines()\n",
    "    m.fillcontinents(alpha=0.1)\n",
    "    m.drawparallels(np.arange(bbox[0],bbox[1],(bbox[1]-bbox[0])/5),labels=[1,0,0,0], color=\"#cccccc\")\n",
    "    m.drawmeridians(np.arange(bbox[2],bbox[3],(bbox[3]-bbox[2])/5),labels=[0,0,0,1],rotation=90, color=\"#cccccc\")\n",
    "    m.drawmapboundary(fill_color='white')\n",
    "\n",
    "    def convert(origin_latitude, origin_longitude):\n",
    "        return m(origin_longitude, origin_latitude)\n",
    "\n",
    "    m_coords = []\n",
    "\n",
    "    for csc in csc_data.name:\n",
    "        subset = df[(df.hospital_of_arrival == csc) | (df.hospital_of_transfer == csc)]\n",
    "        m_coords.append(subset[['stroke_location_latitude','stroke_location_longitude']].apply(lambda x: convert(*x), axis=1))\n",
    "\n",
    "    axes = []\n",
    "    \n",
    "    # Submission only colour modifications, as per request.\n",
    "    colours = {\n",
    "        \"Austin Health\": (1,0.5,0.5),\n",
    "        \"Monash Health\": (0.5,1,0.5),\n",
    "        \"Royal Melbourne Hospital\": (0.5,0.5,1),\n",
    "        \"The Alfred\": (0.96, 0.74,0.26)\n",
    "    }\n",
    "    \n",
    "    for i, cs in enumerate(m_coords):\n",
    "        xs = [c[0] for c in cs]\n",
    "        ys = [c[1] for c in cs]\n",
    "        name = csc_data.iloc[i][\"name\"]\n",
    "        axes.append(m.scatter(xs,ys,marker='D',c=colours[name], s=4/zoom_scale, alpha=0.9))\n",
    "    \n",
    "    # Submission only name modifications, as per request.\n",
    "    renamed = csc_data.copy(deep=True)\n",
    "    renamed.loc[0, \"name\"] = \"Austin Hospital\"\n",
    "    renamed.loc[1, \"name\"] = \"Monash Medical Centre\"\n",
    "    \n",
    "    if show_hospitals:\n",
    "        hosp_coords = csc_data[['latitude', 'longitude']].apply(lambda x: convert(*x), axis=1)\n",
    "        for i, c in enumerate(hosp_coords):\n",
    "            min_c = convert(bbox[0], bbox[2])\n",
    "            max_c = convert(bbox[1], bbox[3])\n",
    "            if c[0] > min_c[0] and c[0] < max_c[0] and c[1] > min_c[1] and c[1] < max_c[1]:\n",
    "                m.plot(c[0], c[1], 'r*')\n",
    "                plt.text(c[0], c[1], renamed.iloc[i][\"name\"], fontsize=12)\n",
    "    else:\n",
    "        plt.legend(axes, renamed.name)"
   ]
  },
  {
   "cell_type": "code",
   "execution_count": 14,
   "metadata": {
    "collapsed": true
   },
   "outputs": [],
   "source": [
    "def append_to_series(series, last_value_change):\n",
    "    return series.append(pd.Series(series.iloc[-1] + last_value_change))\n",
    "\n",
    "def plot_utilisation_over_time(usage, resource_capacities, resource_type, plot_yticks=False):\n",
    "    \n",
    "    n_resources = len(resource_capacities)\n",
    "    resource_names = set(usage.name)\n",
    "\n",
    "    fig, axes = plt.subplots(nrows=n_resources, sharex = True)\n",
    "\n",
    "    for i, resource in enumerate(resource_names):\n",
    "        subset = usage[usage.name == resource]\n",
    "        \n",
    "        # Just use the first 31 days\n",
    "        subset = subset[subset.event_time < (60 * 24 * 31)]\n",
    "\n",
    "        ys_capacity = subset.capacity_at_event_time\n",
    "        ys_queue = subset.queue_at_event_time    \n",
    "        events = subset.event\n",
    "\n",
    "        # Calculate last value\n",
    "        try:\n",
    "            if events.iloc[-1] == \"request\":\n",
    "                if ys_capacity.iloc[-1] == resource_capacities.loc[resource].capacity: # last one is queued\n",
    "                    ys_capacity = append_to_series(ys_capacity, 0)\n",
    "                    ys_queue = append_to_series(ys_queue, 1)\n",
    "                else: # last one is admitted\n",
    "                    ys_capacity = append_to_series(ys_capacity, 1)\n",
    "                    ys_queue = append_to_series(ys_queue, 0)\n",
    "            else:\n",
    "                if ys_queue.iloc[-1] > 0: # patient was in queue\n",
    "                    ys_capacity = append_to_series(ys_capacity, 0)\n",
    "                    ys_queue = append_to_series(ys_queue, -1)\n",
    "                else:\n",
    "                    ys_capacity = append_to_series(ys_capacity, -1)\n",
    "                    ys_queue = append_to_series(ys_queue, 0)\n",
    "                    \n",
    "                # Stack capacity and queue\n",
    "            ys = ys_capacity + ys_queue\n",
    "            xs = pd.Series([0]).append(subset.event_time)\n",
    "        except IndexError: # likely no entries\n",
    "            xs = []\n",
    "            ys = []\n",
    "\n",
    "        #axes[i].step(xs, ys, where=\"post\", label=\"Queue\", linewidth=0.05)\n",
    "        #axes[i].step(xs, ys_capacity, where=\"post\", label=\"Capacity\", linewidth=0.05)\n",
    "        axes[i].fill_between(xs, ys, step=\"post\", label=\"Queue\", alpha = 0.5)\n",
    "        axes[i].fill_between(xs, ys_capacity, step=\"post\", label=\"Capacity\", alpha=1)\n",
    "        #axes[i].bar(xs, ys, label=\"Queue\")\n",
    "        #axes[i].bar(xs, ys_capacity, label=\"Capacity\")\n",
    "        #zaxes[i].set_ylim([0, max(usage.capacity_at_event_time) + max(usage.queue_at_event_time)])\n",
    "        #axes[i].set_xlim([0, max(usage.event_time)])\n",
    "        axes[i].set_ylabel(resource, rotation=0, labelpad=80)\n",
    "        \n",
    "        if not plot_yticks:\n",
    "            axes[i].set_yticklabels([]) # remove y-tick\n",
    "\n",
    "        if i == 0:\n",
    "            axes[i].legend(loc=\"upper right\")\n",
    "            axes[i].set_title('Capacity and Queue (Stacked) of {} During Simulation (First 31 Days)'.format(resource_type))\n",
    "\n",
    "    fig.text(0.5, 0.05, 'Simulation Time (minutes)', ha='center')"
   ]
  },
  {
   "cell_type": "code",
   "execution_count": 15,
   "metadata": {
    "collapsed": true
   },
   "outputs": [],
   "source": [
    "def plot_total_utilisation(usage, resource_capacities, max_time, resource_type):\n",
    "    \n",
    "    n_resources = len(resource_capacities)\n",
    "    resource_names = set(usage.name)\n",
    "    \n",
    "    resource_names_with_capacities = [\"{} (max {})\".format(resource, resource_capacities.at[resource, \"capacity\"])\n",
    "                                     for resource in resource_names]\n",
    "\n",
    "    totals = []\n",
    "    for i, resource in enumerate(resource_names):\n",
    "        subset = usage[usage.name == resource]\n",
    "\n",
    "        ys_capacity = subset.capacity_at_event_time\n",
    "\n",
    "        xs = subset.event_time\n",
    "        \n",
    "        utilisation = 0\n",
    "        max_capacity = resource_capacities.at[resource, \"capacity\"]\n",
    "        #max_utilisation = max_capacity * max_time\n",
    "        #max_utilisation = max_capacity * max(xs)\n",
    "        \n",
    "        j = 0\n",
    "        max_utilisation = 0\n",
    "        for k, capacity in ys_capacity.iteritems():\n",
    "            if j == 0:\n",
    "                point_utilisation = 0\n",
    "                point_max = xs.iloc[0] * max_capacity\n",
    "            else:\n",
    "                point_utilisation = (xs.iloc[j] - xs.iloc[j-1]) * capacity\n",
    "                point_max = (xs.iloc[j] - xs.iloc[j-1]) * max_capacity\n",
    "            max_utilisation += point_max\n",
    "            utilisation += point_utilisation\n",
    "            j += 1\n",
    "            \n",
    "        utilisation = utilisation / max_utilisation\n",
    "            \n",
    "        totals.append((resource, utilisation))\n",
    "    \n",
    "    # total_utilisation = pd.DataFrame(totals)\n",
    "    totals.sort(key=lambda x: x[1], reverse=True)\n",
    "    sorted_values = [t[1] for t in totals]\n",
    "    sorted_names = [t[0] for t in totals]\n",
    "    \n",
    "    plt.bar(range(n_resources), sorted_values)\n",
    "    \n",
    "    max_value = np.max(sorted_values)\n",
    "    \n",
    "    if max_value > 0.5:\n",
    "        plt.ylim((0, 1))\n",
    "    else:\n",
    "        plt.ylim((0, 0.5))\n",
    "        \n",
    "    plt.xticks(range(n_resources), sorted_names, rotation=90)\n",
    "    plt.axhline(np.mean(sorted_values), color=\"red\", linestyle=\":\")\n",
    "    plt.title(\"Total Utilisation (Capacity) as a \\nProportion of Max Capacity for {}\".format(resource_type))"
   ]
  },
  {
   "cell_type": "code",
   "execution_count": 16,
   "metadata": {
    "collapsed": true
   },
   "outputs": [],
   "source": [
    "def make_plots(proportion : int, combination : str):\n",
    "    \n",
    "    hospital_usage_regex = make_regex(proportion, combination, \"codestroke_usage\")\n",
    "    angio_usage_regex = make_regex(proportion, combination, \"acutebed_usage\")\n",
    "    simdata_regex = make_regex(proportion, combination, \"simdata\")\n",
    "    \n",
    "    hospital_usage_file = [file for file in all_files if hospital_usage_regex.match(file)]\n",
    "    angio_usage_file = [file for file in all_files if angio_usage_regex.match(file)]\n",
    "    simdata_file = [file for file in all_files if simdata_regex.match(file)]\n",
    "    \n",
    "    try:\n",
    "        assert len(hospital_usage_file) == 1\n",
    "        assert len(angio_usage_file) == 1\n",
    "        assert len(simdata_file) == 1\n",
    "    except AssertionError:\n",
    "        print(hospital_usage_file)\n",
    "        print(angio_usage_file)\n",
    "        print(simdata_file)\n",
    "    \n",
    "    hospital_usage = pd.read_csv(hospital_usage_file[0])\n",
    "    angio_usage = pd.read_csv(angio_usage_file[0])\n",
    "    \n",
    "    hospital_data, central_hospitals, angio_capacities = get_hospital_data(combination)\n",
    "\n",
    "    hospitals = set(hospital_usage.name)\n",
    "    \n",
    "    plt.figure()\n",
    "    matplotlib.rcParams['figure.figsize'] = [20, 20]\n",
    "    plot_utilisation_over_time(hospital_usage, hospital_data, \"Codestroke\")\n",
    "    plt.savefig(hospital_usage_file[0].replace(\"../data/processed/\", \"../graphics/\").replace(\".csv\", \"_utilisation.png\"))\n",
    "    plt.close()\n",
    "    \n",
    "    plt.figure()\n",
    "    matplotlib.rcParams['figure.figsize'] = [20, 4]\n",
    "    plot_utilisation_over_time(angio_usage, angio_capacities, \"Acute Beds\", plot_yticks=True)\n",
    "    plt.savefig(angio_usage_file[0].replace(\"../data/processed/\", \"../graphics/\").replace(\".csv\", \"_utilisation.png\"))\n",
    "    plt.close()\n",
    "    \n",
    "    max_time = None # not used for now\n",
    "    \n",
    "    fig = plt.figure(figsize=(16,10))\n",
    "    #matplotlib.rcParams['figure.figsize'] = [10, 16]\n",
    "    plot_total_utilisation(hospital_usage, hospital_data, max_time, \"Codestroke\")\n",
    "    fig.subplots_adjust(bottom = 0.5)\n",
    "    fig.subplots_adjust(top = 1)\n",
    "    plt.tight_layout()\n",
    "    plt.savefig(hospital_usage_file[0].replace(\"../data/processed/\", \"../graphics/\").replace(\".csv\", \"_bar_comparison.png\"))\n",
    "    plt.close()\n",
    "    \n",
    "    fig = plt.figure(figsize=(8,8))\n",
    "    #matplotlib.rcParams['figure.figsize'] = [6,6]\n",
    "    plot_total_utilisation(angio_usage,\n",
    "                           angio_capacities,\n",
    "                           max_time, \"Acute Beds\")\n",
    "    plt.tight_layout()\n",
    "    plt.savefig(angio_usage_file[0].replace(\"../data/processed/\", \"../graphics/\").replace(\".csv\", \"_bar_comparison.png\"))\n",
    "    plt.close()\n",
    "\n",
    "    simdata_df = pd.read_csv(simdata_file[0])\n",
    "    csc_data = csc_data_dict[combination]\n",
    "    \n",
    "    plt.figure(figsize=(9,9))\n",
    "    plot_csc(simdata_df, csc_data, 1)\n",
    "    #plt.tight_layout()\n",
    "    plt.savefig(hospital_usage_file[0].replace(\"../data/processed/\", \"../graphics/\").replace(\"_codestroke_usage.csv\", \"_mapped_small.png\"))\n",
    "    plt.close()\n",
    "    \n",
    "    plt.figure(figsize=(9,9))\n",
    "    plot_csc(simdata_df, csc_data, 4.5, show_hospitals=False)\n",
    "    #plt.tight_layout()\n",
    "    plt.savefig(hospital_usage_file[0].replace(\"../data/processed/\", \"../graphics/\").replace(\"_codestroke_usage.csv\", \"_mapped_large.png\"))\n",
    "    plt.close()"
   ]
  },
  {
   "cell_type": "markdown",
   "metadata": {},
   "source": [
    "# Running the Plotting Loop"
   ]
  },
  {
   "cell_type": "code",
   "execution_count": 17,
   "metadata": {},
   "outputs": [
    {
     "name": "stderr",
     "output_type": "stream",
     "text": [
      "/home/wjmn/anaconda3/lib/python3.6/site-packages/matplotlib/pyplot.py:524: RuntimeWarning: More than 20 figures have been opened. Figures created through the pyplot interface (`matplotlib.pyplot.figure`) are retained until explicitly closed and may consume too much memory. (To control this warning, see the rcParam `figure.max_open_warning`).\n",
      "  max_open_warning, RuntimeWarning)\n"
     ]
    },
    {
     "data": {
      "text/plain": [
       "<matplotlib.figure.Figure at 0x7fa8964fce10>"
      ]
     },
     "metadata": {},
     "output_type": "display_data"
    },
    {
     "data": {
      "text/plain": [
       "<matplotlib.figure.Figure at 0x7fa89436e710>"
      ]
     },
     "metadata": {},
     "output_type": "display_data"
    },
    {
     "data": {
      "text/plain": [
       "<matplotlib.figure.Figure at 0x7fa893479ba8>"
      ]
     },
     "metadata": {},
     "output_type": "display_data"
    },
    {
     "data": {
      "text/plain": [
       "<matplotlib.figure.Figure at 0x7fa892f5c630>"
      ]
     },
     "metadata": {},
     "output_type": "display_data"
    },
    {
     "data": {
      "text/plain": [
       "<matplotlib.figure.Figure at 0x7fa8928e3b00>"
      ]
     },
     "metadata": {},
     "output_type": "display_data"
    },
    {
     "data": {
      "text/plain": [
       "<matplotlib.figure.Figure at 0x7fa89193de10>"
      ]
     },
     "metadata": {},
     "output_type": "display_data"
    },
    {
     "data": {
      "text/plain": [
       "<matplotlib.figure.Figure at 0x7fa8911adb38>"
      ]
     },
     "metadata": {},
     "output_type": "display_data"
    },
    {
     "data": {
      "text/plain": [
       "<matplotlib.figure.Figure at 0x7fa890379198>"
      ]
     },
     "metadata": {},
     "output_type": "display_data"
    },
    {
     "data": {
      "text/plain": [
       "<matplotlib.figure.Figure at 0x7fa88fb586a0>"
      ]
     },
     "metadata": {},
     "output_type": "display_data"
    },
    {
     "data": {
      "text/plain": [
       "<matplotlib.figure.Figure at 0x7fa88edbeef0>"
      ]
     },
     "metadata": {},
     "output_type": "display_data"
    },
    {
     "data": {
      "text/plain": [
       "<matplotlib.figure.Figure at 0x7fa88e7e7e10>"
      ]
     },
     "metadata": {},
     "output_type": "display_data"
    },
    {
     "data": {
      "text/plain": [
       "<matplotlib.figure.Figure at 0x7fa88d7e7a20>"
      ]
     },
     "metadata": {},
     "output_type": "display_data"
    },
    {
     "data": {
      "text/plain": [
       "<matplotlib.figure.Figure at 0x7fa88d0beac8>"
      ]
     },
     "metadata": {},
     "output_type": "display_data"
    },
    {
     "data": {
      "text/plain": [
       "<matplotlib.figure.Figure at 0x7fa88d900160>"
      ]
     },
     "metadata": {},
     "output_type": "display_data"
    },
    {
     "data": {
      "text/plain": [
       "<matplotlib.figure.Figure at 0x7fa88bdf4a90>"
      ]
     },
     "metadata": {},
     "output_type": "display_data"
    },
    {
     "data": {
      "text/plain": [
       "<matplotlib.figure.Figure at 0x7fa88a9d27b8>"
      ]
     },
     "metadata": {},
     "output_type": "display_data"
    },
    {
     "data": {
      "text/plain": [
       "<matplotlib.figure.Figure at 0x7fa88a263da0>"
      ]
     },
     "metadata": {},
     "output_type": "display_data"
    },
    {
     "data": {
      "text/plain": [
       "<matplotlib.figure.Figure at 0x7fa88a622cc0>"
      ]
     },
     "metadata": {},
     "output_type": "display_data"
    },
    {
     "data": {
      "text/plain": [
       "<matplotlib.figure.Figure at 0x7fa888e28400>"
      ]
     },
     "metadata": {},
     "output_type": "display_data"
    },
    {
     "data": {
      "text/plain": [
       "<matplotlib.figure.Figure at 0x7fa887d786a0>"
      ]
     },
     "metadata": {},
     "output_type": "display_data"
    },
    {
     "data": {
      "text/plain": [
       "<matplotlib.figure.Figure at 0x7fa88790fb70>"
      ]
     },
     "metadata": {},
     "output_type": "display_data"
    },
    {
     "data": {
      "text/plain": [
       "<matplotlib.figure.Figure at 0x7fa8868fae48>"
      ]
     },
     "metadata": {},
     "output_type": "display_data"
    },
    {
     "data": {
      "text/plain": [
       "<matplotlib.figure.Figure at 0x7fa88615cac8>"
      ]
     },
     "metadata": {},
     "output_type": "display_data"
    },
    {
     "data": {
      "text/plain": [
       "<matplotlib.figure.Figure at 0x7fa8865ee828>"
      ]
     },
     "metadata": {},
     "output_type": "display_data"
    },
    {
     "data": {
      "text/plain": [
       "<matplotlib.figure.Figure at 0x7fa8865dcef0>"
      ]
     },
     "metadata": {},
     "output_type": "display_data"
    },
    {
     "data": {
      "text/plain": [
       "<matplotlib.figure.Figure at 0x7fa884e96a90>"
      ]
     },
     "metadata": {},
     "output_type": "display_data"
    },
    {
     "data": {
      "text/plain": [
       "<matplotlib.figure.Figure at 0x7fa8835b4860>"
      ]
     },
     "metadata": {},
     "output_type": "display_data"
    },
    {
     "data": {
      "text/plain": [
       "<matplotlib.figure.Figure at 0x7fa882712780>"
      ]
     },
     "metadata": {},
     "output_type": "display_data"
    },
    {
     "data": {
      "text/plain": [
       "<matplotlib.figure.Figure at 0x7fa88209fbe0>"
      ]
     },
     "metadata": {},
     "output_type": "display_data"
    },
    {
     "data": {
      "text/plain": [
       "<matplotlib.figure.Figure at 0x7fa881d8ed68>"
      ]
     },
     "metadata": {},
     "output_type": "display_data"
    },
    {
     "data": {
      "text/plain": [
       "<matplotlib.figure.Figure at 0x7fa880d20f60>"
      ]
     },
     "metadata": {},
     "output_type": "display_data"
    },
    {
     "data": {
      "text/plain": [
       "<matplotlib.figure.Figure at 0x7fa87fd60c18>"
      ]
     },
     "metadata": {},
     "output_type": "display_data"
    }
   ],
   "source": [
    "for proportion in ecr_proportion_list:\n",
    "    for combination in combination_list:\n",
    "        make_plots(proportion, combination)"
   ]
  },
  {
   "cell_type": "code",
   "execution_count": null,
   "metadata": {
    "collapsed": true
   },
   "outputs": [],
   "source": []
  },
  {
   "cell_type": "code",
   "execution_count": null,
   "metadata": {
    "collapsed": true
   },
   "outputs": [],
   "source": []
  }
 ],
 "metadata": {
  "kernelspec": {
   "display_name": "Python 3",
   "language": "python",
   "name": "python3"
  },
  "language_info": {
   "codemirror_mode": {
    "name": "ipython",
    "version": 3
   },
   "file_extension": ".py",
   "mimetype": "text/x-python",
   "name": "python",
   "nbconvert_exporter": "python",
   "pygments_lexer": "ipython3",
   "version": "3.6.8"
  }
 },
 "nbformat": 4,
 "nbformat_minor": 2
}
