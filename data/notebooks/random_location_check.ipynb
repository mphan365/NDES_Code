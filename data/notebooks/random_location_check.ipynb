{
 "cells": [
  {
   "cell_type": "markdown",
   "metadata": {},
   "source": [
    "# Setup"
   ]
  },
  {
   "cell_type": "code",
   "execution_count": 1,
   "metadata": {
    "collapsed": true
   },
   "outputs": [],
   "source": [
    "%matplotlib inline\n",
    "import numpy as np\n",
    "import pandas as pd\n",
    "import matplotlib.pyplot as plt\n",
    "import os\n",
    "from mpl_toolkits.basemap import Basemap\n",
    "\n",
    "import shapefile\n",
    "\n",
    "from geopy import distance\n",
    "\n",
    "# Further imports for Polygon class\n",
    "import random\n",
    "import requests\n",
    "import datetime\n",
    "import time\n",
    "\n",
    "import re\n",
    "\n",
    "import pytz"
   ]
  },
  {
   "cell_type": "markdown",
   "metadata": {},
   "source": [
    "# Polygon class"
   ]
  },
  {
   "cell_type": "markdown",
   "metadata": {},
   "source": [
    "Let's have a new class for an object of type Polygon to help with the calculation steps. The Polygon will be defined by its bounding vertices and will have a number of methods to get random points and ETAs. I originally wrote this outside the notebook, but for the purposes of completeness, I have moved it here. Once the simulation is fleshed out into a proper app, this class should be moved to a new standalone file (as with all the other things in this notebook)."
   ]
  },
  {
   "cell_type": "code",
   "execution_count": 2,
   "metadata": {
    "collapsed": true
   },
   "outputs": [],
   "source": [
    "class Polygon:\n",
    "\n",
    "    def __init__(self, vertices, reverse_lat_long=False):\n",
    "        \"\"\"\n",
    "        vertices : list of tuples (latitude, longitude) as strings\n",
    "        \n",
    "        It is assumed that each vertex, in order, is joined \n",
    "        by a line to delineate the polygon.\n",
    "        \"\"\"\n",
    "        self.vertices = np.array(vertices).astype(np.float)\n",
    "        self.edges = self.make_edges(vertices)\n",
    "        self.mins = np.amin(self.vertices, axis=0)\n",
    "        self.maxs = np.amax(self.vertices, axis=0)\n",
    "        self.vertices_strings = vertices\n",
    "        self.reverse_lat_long = reverse_lat_long\n",
    "\n",
    "    def make_edges(self, vertices):\n",
    "        edges = list(zip(vertices, vertices[1:] + [vertices[0]]))\n",
    "        return np.array(edges).astype(np.float)\n",
    "\n",
    "    def get_random_point_within(self):\n",
    "        line_origin = np.subtract(self.mins, 1.0)\n",
    "\n",
    "        stop = False\n",
    "        count = 0\n",
    "\n",
    "        while stop == False:\n",
    "            random_latitude = random.uniform(self.mins[0], self.maxs[0])\n",
    "            random_longitude = random.uniform(self.mins[1], self.maxs[1])\n",
    "\n",
    "            check_line = np.array([line_origin, [random_latitude, random_longitude]])\n",
    "\n",
    "            intersections = np.zeros((self.edges.shape[0], 1))\n",
    "\n",
    "            # Vectorisable?\n",
    "            for i in range(0, self.edges.shape[0]):\n",
    "                test_edge = self.edges[i, :, :]\n",
    "                intersections[i] = self._intersects(check_line, test_edge)\n",
    "\n",
    "            within = sum(list(map(self._bool_to_num, intersections))) % 2\n",
    "\n",
    "            #print(count)\n",
    "            #print((random_latitude, random_longitude))\n",
    "            count += 1\n",
    "            \n",
    "            if within:\n",
    "                stop = True\n",
    "\n",
    "            if count > 100:\n",
    "                raise ValueError(\"Failed to determine random point within polygon. Polygon may be too irregular.\")\n",
    "\n",
    "        str_lat = '{:.6f}'.format(random_latitude)\n",
    "        str_long = '{:.6f}'.format(random_longitude)\n",
    "\n",
    "        if self.reverse_lat_long:\n",
    "            return (str_long, str_lat)\n",
    "        else:\n",
    "            return (str_lat, str_long)\n",
    "\n",
    "\n",
    "    def generate_random_points_within(self, number, region_name=None):\n",
    "\n",
    "        random_points = [{'region_name': region_name, 'origin_latitude': p[0], 'origin_longitude': p[1] } for p in map(lambda x: self.get_random_point_within(), range(number))]\n",
    "        df = pd.DataFrame(random_points)\n",
    "\n",
    "        # To save results to limit number of API calls\n",
    "        filename = datetime.datetime.now().strftime(\"%Y%m%d-%H%M%S\")\n",
    "        df.to_csv('points_{}.csv'.format(filename))\n",
    "        return df\n",
    "\n",
    "    def _bool_to_num(self, x):\n",
    "        if x:\n",
    "            return 1\n",
    "        else:\n",
    "            return 0\n",
    "\n",
    "    def _intersects(self, line1, line2):\n",
    "        # lines of form [[lat1 long1],[lat2 long2]]\n",
    "        line1AB_line2A = ((line1[1][0] - line1[0][0]) * (line2[0][1] - line1[1][1])) - \\\n",
    "                         ((line2[0][0] - line1[1][0]) * (line1[1][1] - line1[0][1]))\n",
    "\n",
    "        line1AB_line2B = ((line1[1][0] - line1[0][0]) * (line2[1][1] - line1[1][1])) - \\\n",
    "                         ((line2[1][0] - line1[1][0]) * (line1[1][1] - line1[0][1]))\n",
    "\n",
    "        line2AB_line1A = ((line2[1][0] - line2[0][0]) * (line1[0][1] - line2[1][1])) - \\\n",
    "                         ((line1[0][0] - line2[1][0]) * (line2[1][1] - line2[0][1]))\n",
    "\n",
    "        line2AB_line1B = ((line2[1][0] - line2[0][0]) * (line1[1][1] - line2[1][1])) - \\\n",
    "                         ((line1[1][0] - line2[1][0]) * (line2[1][1] - line2[0][1]))\n",
    "\n",
    "        if (line1AB_line2A * line1AB_line2B) < 0 and (line2AB_line1A * line2AB_line1B) < 0:\n",
    "            return True\n",
    "\n",
    "        return False\n"
   ]
  },
  {
   "cell_type": "markdown",
   "metadata": {},
   "source": [
    "# Victoria"
   ]
  },
  {
   "cell_type": "markdown",
   "metadata": {},
   "source": [
    "## Data Sourcing"
   ]
  },
  {
   "cell_type": "markdown",
   "metadata": {},
   "source": [
    "Potential sources of data include:\n",
    "\n",
    "- [PSMA Administrative Boundaries](https://data.gov.au/dataset/vic-local-government-areas-psma-administrative-boundaries). Data of various boundary types including, as described, \"Australian Bureau of Statistics (ABS) boundaries, electoral boundaries, state and territory boundaries, local government areas, suburbs/localities, wards and town points.\"\n",
    "- [Victorian Spacial Datamart](http://services.land.vic.gov.au/SpatialDatamart/createAllOrders.html). Includes boundaries of different area types such as Local Government Area, Postcode and Localities, though limited to 15 elements per order.\n",
    "- [ABS Census DataPacks and GeoPacks](https://datapacks.censusdata.abs.gov.au/). Contains data, integrated with boundary data in the case of GeoPacks, from census data collected by the ABS. DataPacks also contain a link to ESRI Shapefiles for region boundaries."
   ]
  },
  {
   "cell_type": "markdown",
   "metadata": {},
   "source": [
    "For this notebook, the data sourced was **VIC State Electoral Divisions** (SEDs) from the ABS Census DataPack."
   ]
  },
  {
   "cell_type": "markdown",
   "metadata": {},
   "source": [
    "## Examining the Shape Data"
   ]
  },
  {
   "cell_type": "code",
   "execution_count": 13,
   "metadata": {
    "collapsed": true
   },
   "outputs": [],
   "source": [
    "external_data_dir = '../data/external/2016_SED_shape/'\n",
    "filename_base = 'SED_2016_AUST'"
   ]
  },
  {
   "cell_type": "markdown",
   "metadata": {},
   "source": [
    "First having a brief look at what the data contains."
   ]
  },
  {
   "cell_type": "code",
   "execution_count": 4,
   "metadata": {
    "collapsed": true
   },
   "outputs": [],
   "source": [
    "shape_data = shapefile.Reader(external_data_dir + filename_base)\n",
    "all_shapes = shape_data.shapeRecords()"
   ]
  },
  {
   "cell_type": "markdown",
   "metadata": {},
   "source": [
    "Some basic information on the data:"
   ]
  },
  {
   "cell_type": "code",
   "execution_count": 5,
   "metadata": {},
   "outputs": [
    {
     "data": {
      "text/plain": [
       "448"
      ]
     },
     "execution_count": 5,
     "metadata": {},
     "output_type": "execute_result"
    }
   ],
   "source": [
    "len(all_shapes)"
   ]
  },
  {
   "cell_type": "code",
   "execution_count": 6,
   "metadata": {},
   "outputs": [
    {
     "data": {
      "text/plain": [
       "['SED10001', '10001', 'Albury', '1', 'New South Wales', 19487.8]"
      ]
     },
     "execution_count": 6,
     "metadata": {},
     "output_type": "execute_result"
    }
   ],
   "source": [
    "all_shapes[0].record"
   ]
  },
  {
   "cell_type": "markdown",
   "metadata": {},
   "source": [
    "Let's filter the data to only include Victoria SEDs."
   ]
  },
  {
   "cell_type": "code",
   "execution_count": 7,
   "metadata": {
    "collapsed": true
   },
   "outputs": [],
   "source": [
    "vic_shapes = [shape for shape in all_shapes if shape.record[4] == 'Victoria' ]"
   ]
  },
  {
   "cell_type": "markdown",
   "metadata": {},
   "source": [
    "Now let's look at the SED names."
   ]
  },
  {
   "cell_type": "code",
   "execution_count": 8,
   "metadata": {},
   "outputs": [
    {
     "data": {
      "text/plain": [
       "90"
      ]
     },
     "execution_count": 8,
     "metadata": {},
     "output_type": "execute_result"
    }
   ],
   "source": [
    "len(vic_shapes)"
   ]
  },
  {
   "cell_type": "code",
   "execution_count": 38,
   "metadata": {
    "scrolled": false
   },
   "outputs": [
    {
     "name": "stdout",
     "output_type": "stream",
     "text": [
      "Albert Park (Southern Metropolitan)\n",
      "Altona (Western Metropolitan)\n",
      "Bass (Eastern Victoria)\n",
      "Bayswater (Eastern Metropolitan)\n",
      "Bellarine (Western Victoria)\n",
      "Benambra (Northern Victoria)\n",
      "Bendigo East (Northern Victoria)\n",
      "Bendigo West (Northern Victoria)\n",
      "Bentleigh (Southern Metropolitan)\n",
      "Box Hill (Eastern Metropolitan)\n",
      "Brighton (Southern Metropolitan)\n",
      "Broadmeadows (Northern Metropolitan)\n",
      "Brunswick (Northern Metropolitan)\n",
      "Bulleen (Eastern Metropolitan)\n",
      "Bundoora (Northern Metropolitan)\n",
      "Buninyong (Western Victoria)\n",
      "Burwood (Southern Metropolitan)\n",
      "Carrum (South-Eastern Metropolitan)\n",
      "Caulfield (Southern Metropolitan)\n",
      "Clarinda (South-Eastern Metropolitan)\n",
      "Cranbourne (South-Eastern Metropolitan)\n",
      "Croydon (Eastern Metropolitan)\n",
      "Dandenong (South-Eastern Metropolitan)\n",
      "Eildon (Northern Victoria)\n",
      "Eltham (Eastern Metropolitan)\n",
      "Essendon (Western Metropolitan)\n",
      "Euroa (Northern Victoria)\n",
      "Evelyn (Eastern Victoria)\n",
      "Ferntree Gully (Eastern Metropolitan)\n",
      "Footscray (Western Metropolitan)\n",
      "Forest Hill (Eastern Metropolitan)\n",
      "Frankston (South-Eastern Metropolitan)\n",
      "Geelong (Western Victoria)\n",
      "Gembrook (Eastern Victoria)\n",
      "Gippsland East (Eastern Victoria)\n",
      "Gippsland South (Eastern Victoria)\n",
      "Hastings (Eastern Victoria)\n",
      "Hawthorn (Southern Metropolitan)\n",
      "Ivanhoe (Eastern Metropolitan)\n",
      "Kew (Southern Metropolitan)\n",
      "Keysborough (South-Eastern Metropolitan)\n",
      "Kororoit (Western Metropolitan)\n",
      "Lara (Western Victoria)\n",
      "Lowan (Western Victoria)\n",
      "Macedon (Northern Victoria)\n",
      "Malvern (Southern Metropolitan)\n",
      "Melbourne (Northern Metropolitan)\n",
      "Melton (Western Victoria)\n",
      "Mildura (Northern Victoria)\n",
      "Mill Park (Northern Metropolitan)\n",
      "Monbulk (Eastern Victoria)\n",
      "Mordialloc (South-Eastern Metropolitan)\n",
      "Mornington (Eastern Victoria)\n",
      "Morwell (Eastern Victoria)\n",
      "Mount Waverley (Eastern Metropolitan)\n",
      "Mulgrave (South-Eastern Metropolitan)\n",
      "Murray Plains (Northern Victoria)\n",
      "Narracan (Eastern Victoria)\n",
      "Narre Warren North (South-Eastern Metrop\n",
      "Narre Warren South (South-Eastern Metrop\n",
      "Nepean (Eastern Victoria)\n",
      "Niddrie (Western Metropolitan)\n",
      "Northcote (Northern Metropolitan)\n",
      "Oakleigh (Southern Metropolitan)\n",
      "Ovens Valley (Northern Victoria)\n",
      "Pascoe Vale (Northern Metropolitan)\n",
      "Polwarth (Western Victoria)\n",
      "Prahran (Southern Metropolitan)\n",
      "Preston (Northern Metropolitan)\n",
      "Richmond (Northern Metropolitan)\n",
      "Ringwood (Eastern Metropolitan)\n",
      "Ripon (Western Victoria)\n",
      "Rowville (South-Eastern Metropolitan)\n",
      "Sandringham (Southern Metropolitan)\n",
      "Shepparton (Northern Victoria)\n",
      "South Barwon (Western Victoria)\n",
      "South-West Coast (Western Victoria)\n",
      "St Albans (Western Metropolitan)\n",
      "Sunbury (Western Metropolitan)\n",
      "Sydenham (Western Metropolitan)\n",
      "Tarneit (Western Metropolitan)\n",
      "Thomastown (Northern Metropolitan)\n",
      "Warrandyte (Eastern Metropolitan)\n",
      "Wendouree (Western Victoria)\n",
      "Werribee (Western Metropolitan)\n",
      "Williamstown (Western Metropolitan)\n",
      "Yan Yean (Northern Victoria)\n",
      "Yuroke (Northern Metropolitan)\n",
      "No usual address (Vic.)\n",
      "Migratory - Offshore - Shipping (Vic.)\n"
     ]
    }
   ],
   "source": [
    "for shape in vic_shapes:\n",
    "    print(shape.record[2])"
   ]
  },
  {
   "cell_type": "markdown",
   "metadata": {},
   "source": [
    "On a plot, exluding the two last list elements:"
   ]
  },
  {
   "cell_type": "code",
   "execution_count": 10,
   "metadata": {},
   "outputs": [
    {
     "data": {
      "image/png": "[encoded data removed]",
      "text/plain": [
       "<matplotlib.figure.Figure at 0x7fa51489d3c8>"
      ]
     },
     "metadata": {},
     "output_type": "display_data"
    }
   ],
   "source": [
    "plt.figure()\n",
    "for shape in vic_shapes[:-2]:\n",
    "    all_points = shape.shape.points\n",
    "    #if re.match(r\".*Metropolitan.*\", shape.record[2]):\n",
    "    x = [point[0] for point in all_points]\n",
    "    y = [point[1] for point in all_points]\n",
    "    plt.plot(x, y)"
   ]
  },
  {
   "cell_type": "markdown",
   "metadata": {},
   "source": [
    "## Examining Census Data"
   ]
  },
  {
   "cell_type": "code",
   "execution_count": 14,
   "metadata": {
    "collapsed": true
   },
   "outputs": [],
   "source": [
    "external_census_dir = '../data/external/2016_GCP_SED_for_Vic_short-header/2016 Census GCP State Electoral Divisions for VIC/'\n",
    "census_data_files = os.listdir(external_census_dir)"
   ]
  },
  {
   "cell_type": "markdown",
   "metadata": {},
   "source": [
    "From the Metadata file, the data for \"Selected Person Characteristics by Sex\" is contained in Table Number G01, which likely contains the overall total amount of people for each LGA."
   ]
  },
  {
   "cell_type": "code",
   "execution_count": 15,
   "metadata": {
    "collapsed": true
   },
   "outputs": [],
   "source": [
    "g01_data = pd.read_csv(external_census_dir + '2016Census_G01_VIC_SED.csv')"
   ]
  },
  {
   "cell_type": "code",
   "execution_count": 16,
   "metadata": {},
   "outputs": [
    {
     "data": {
      "text/html": [
       "<div>\n",
       "<style>\n",
       "    .dataframe thead tr:only-child th {\n",
       "        text-align: right;\n",
       "    }\n",
       "\n",
       "    .dataframe thead th {\n",
       "        text-align: left;\n",
       "    }\n",
       "\n",
       "    .dataframe tbody tr th {\n",
       "        vertical-align: top;\n",
       "    }\n",
       "</style>\n",
       "<table border=\"1\" class=\"dataframe\">\n",
       "  <thead>\n",
       "    <tr style=\"text-align: right;\">\n",
       "      <th></th>\n",
       "      <th>SED_CODE_2016</th>\n",
       "      <th>Tot_P_M</th>\n",
       "      <th>Tot_P_F</th>\n",
       "      <th>Tot_P_P</th>\n",
       "      <th>Age_0_4_yr_M</th>\n",
       "      <th>Age_0_4_yr_F</th>\n",
       "      <th>Age_0_4_yr_P</th>\n",
       "      <th>Age_5_14_yr_M</th>\n",
       "      <th>Age_5_14_yr_F</th>\n",
       "      <th>Age_5_14_yr_P</th>\n",
       "      <th>...</th>\n",
       "      <th>High_yr_schl_comp_Yr_8_belw_P</th>\n",
       "      <th>High_yr_schl_comp_D_n_g_sch_M</th>\n",
       "      <th>High_yr_schl_comp_D_n_g_sch_F</th>\n",
       "      <th>High_yr_schl_comp_D_n_g_sch_P</th>\n",
       "      <th>Count_psns_occ_priv_dwgs_M</th>\n",
       "      <th>Count_psns_occ_priv_dwgs_F</th>\n",
       "      <th>Count_psns_occ_priv_dwgs_P</th>\n",
       "      <th>Count_Persons_other_dwgs_M</th>\n",
       "      <th>Count_Persons_other_dwgs_F</th>\n",
       "      <th>Count_Persons_other_dwgs_P</th>\n",
       "    </tr>\n",
       "  </thead>\n",
       "  <tbody>\n",
       "    <tr>\n",
       "      <th>0</th>\n",
       "      <td>SED20106</td>\n",
       "      <td>37542</td>\n",
       "      <td>38414</td>\n",
       "      <td>75951</td>\n",
       "      <td>1680</td>\n",
       "      <td>1698</td>\n",
       "      <td>3380</td>\n",
       "      <td>2197</td>\n",
       "      <td>2120</td>\n",
       "      <td>4314</td>\n",
       "      <td>...</td>\n",
       "      <td>1566</td>\n",
       "      <td>145</td>\n",
       "      <td>211</td>\n",
       "      <td>355</td>\n",
       "      <td>31866</td>\n",
       "      <td>33295</td>\n",
       "      <td>65160</td>\n",
       "      <td>7385</td>\n",
       "      <td>6939</td>\n",
       "      <td>14328</td>\n",
       "    </tr>\n",
       "    <tr>\n",
       "      <th>1</th>\n",
       "      <td>SED20207</td>\n",
       "      <td>45554</td>\n",
       "      <td>46137</td>\n",
       "      <td>91695</td>\n",
       "      <td>4267</td>\n",
       "      <td>4009</td>\n",
       "      <td>8276</td>\n",
       "      <td>6682</td>\n",
       "      <td>6268</td>\n",
       "      <td>12955</td>\n",
       "      <td>...</td>\n",
       "      <td>3170</td>\n",
       "      <td>298</td>\n",
       "      <td>410</td>\n",
       "      <td>705</td>\n",
       "      <td>42931</td>\n",
       "      <td>43556</td>\n",
       "      <td>86484</td>\n",
       "      <td>2099</td>\n",
       "      <td>2134</td>\n",
       "      <td>4234</td>\n",
       "    </tr>\n",
       "    <tr>\n",
       "      <th>2</th>\n",
       "      <td>SED20302</td>\n",
       "      <td>35313</td>\n",
       "      <td>37386</td>\n",
       "      <td>72701</td>\n",
       "      <td>2720</td>\n",
       "      <td>2560</td>\n",
       "      <td>5277</td>\n",
       "      <td>4992</td>\n",
       "      <td>4864</td>\n",
       "      <td>9859</td>\n",
       "      <td>...</td>\n",
       "      <td>3434</td>\n",
       "      <td>128</td>\n",
       "      <td>142</td>\n",
       "      <td>273</td>\n",
       "      <td>32152</td>\n",
       "      <td>33998</td>\n",
       "      <td>66153</td>\n",
       "      <td>2417</td>\n",
       "      <td>2776</td>\n",
       "      <td>5196</td>\n",
       "    </tr>\n",
       "    <tr>\n",
       "      <th>3</th>\n",
       "      <td>SED20401</td>\n",
       "      <td>30328</td>\n",
       "      <td>31860</td>\n",
       "      <td>62184</td>\n",
       "      <td>2138</td>\n",
       "      <td>2063</td>\n",
       "      <td>4205</td>\n",
       "      <td>3621</td>\n",
       "      <td>3388</td>\n",
       "      <td>7013</td>\n",
       "      <td>...</td>\n",
       "      <td>2269</td>\n",
       "      <td>153</td>\n",
       "      <td>178</td>\n",
       "      <td>335</td>\n",
       "      <td>28310</td>\n",
       "      <td>29481</td>\n",
       "      <td>57789</td>\n",
       "      <td>1476</td>\n",
       "      <td>1879</td>\n",
       "      <td>3353</td>\n",
       "    </tr>\n",
       "    <tr>\n",
       "      <th>4</th>\n",
       "      <td>SED20508</td>\n",
       "      <td>28565</td>\n",
       "      <td>30653</td>\n",
       "      <td>59222</td>\n",
       "      <td>1759</td>\n",
       "      <td>1596</td>\n",
       "      <td>3357</td>\n",
       "      <td>3768</td>\n",
       "      <td>3605</td>\n",
       "      <td>7376</td>\n",
       "      <td>...</td>\n",
       "      <td>2496</td>\n",
       "      <td>77</td>\n",
       "      <td>56</td>\n",
       "      <td>130</td>\n",
       "      <td>25700</td>\n",
       "      <td>27668</td>\n",
       "      <td>53366</td>\n",
       "      <td>1648</td>\n",
       "      <td>1911</td>\n",
       "      <td>3560</td>\n",
       "    </tr>\n",
       "  </tbody>\n",
       "</table>\n",
       "<p>5 rows × 109 columns</p>\n",
       "</div>"
      ],
      "text/plain": [
       "  SED_CODE_2016  Tot_P_M  Tot_P_F  Tot_P_P  Age_0_4_yr_M  Age_0_4_yr_F  \\\n",
       "0      SED20106    37542    38414    75951          1680          1698   \n",
       "1      SED20207    45554    46137    91695          4267          4009   \n",
       "2      SED20302    35313    37386    72701          2720          2560   \n",
       "3      SED20401    30328    31860    62184          2138          2063   \n",
       "4      SED20508    28565    30653    59222          1759          1596   \n",
       "\n",
       "   Age_0_4_yr_P  Age_5_14_yr_M  Age_5_14_yr_F  Age_5_14_yr_P  \\\n",
       "0          3380           2197           2120           4314   \n",
       "1          8276           6682           6268          12955   \n",
       "2          5277           4992           4864           9859   \n",
       "3          4205           3621           3388           7013   \n",
       "4          3357           3768           3605           7376   \n",
       "\n",
       "              ...              High_yr_schl_comp_Yr_8_belw_P  \\\n",
       "0             ...                                       1566   \n",
       "1             ...                                       3170   \n",
       "2             ...                                       3434   \n",
       "3             ...                                       2269   \n",
       "4             ...                                       2496   \n",
       "\n",
       "   High_yr_schl_comp_D_n_g_sch_M  High_yr_schl_comp_D_n_g_sch_F  \\\n",
       "0                            145                            211   \n",
       "1                            298                            410   \n",
       "2                            128                            142   \n",
       "3                            153                            178   \n",
       "4                             77                             56   \n",
       "\n",
       "   High_yr_schl_comp_D_n_g_sch_P  Count_psns_occ_priv_dwgs_M  \\\n",
       "0                            355                       31866   \n",
       "1                            705                       42931   \n",
       "2                            273                       32152   \n",
       "3                            335                       28310   \n",
       "4                            130                       25700   \n",
       "\n",
       "   Count_psns_occ_priv_dwgs_F  Count_psns_occ_priv_dwgs_P  \\\n",
       "0                       33295                       65160   \n",
       "1                       43556                       86484   \n",
       "2                       33998                       66153   \n",
       "3                       29481                       57789   \n",
       "4                       27668                       53366   \n",
       "\n",
       "   Count_Persons_other_dwgs_M  Count_Persons_other_dwgs_F  \\\n",
       "0                        7385                        6939   \n",
       "1                        2099                        2134   \n",
       "2                        2417                        2776   \n",
       "3                        1476                        1879   \n",
       "4                        1648                        1911   \n",
       "\n",
       "   Count_Persons_other_dwgs_P  \n",
       "0                       14328  \n",
       "1                        4234  \n",
       "2                        5196  \n",
       "3                        3353  \n",
       "4                        3560  \n",
       "\n",
       "[5 rows x 109 columns]"
      ]
     },
     "execution_count": 16,
     "metadata": {},
     "output_type": "execute_result"
    }
   ],
   "source": [
    "g01_data[0:5]"
   ]
  },
  {
   "cell_type": "markdown",
   "metadata": {},
   "source": [
    "We just need to pay attention to the column `Tot_P_P` (total persons) (along with `LGA_CODE_2016`)."
   ]
  },
  {
   "cell_type": "code",
   "execution_count": 17,
   "metadata": {},
   "outputs": [
    {
     "data": {
      "text/plain": [
       "5926617"
      ]
     },
     "execution_count": 17,
     "metadata": {},
     "output_type": "execute_result"
    }
   ],
   "source": [
    "sum(g01_data.Tot_P_P)"
   ]
  },
  {
   "cell_type": "markdown",
   "metadata": {},
   "source": [
    "This is a pretty reasonable estimate for the population of Victoria, so we'll go ahead with it."
   ]
  },
  {
   "cell_type": "markdown",
   "metadata": {},
   "source": [
    "## Hospital (Destination) Coordinates"
   ]
  },
  {
   "cell_type": "markdown",
   "metadata": {},
   "source": [
    "We need data of the coordinates of each hospital. Using the `TestApplications` list of hospitals, I used [a free service](www.gps-coordinates.net) to map each hospital address to their corresponding coordinate with the information below."
   ]
  },
  {
   "cell_type": "code",
   "execution_count": 108,
   "metadata": {
    "collapsed": true
   },
   "outputs": [],
   "source": [
    "hospitals = [\n",
    "    {\"name\": \"Austin Health\", \"identifier\": \"austinhealth\", \"address\": \"145 Studley Rd, Heidelberg VIC 3084\"},\n",
    "    {\"name\": \"Monash Health\", \"identifier\": \"monashhealth\", \"address\": \"246 Clayton Rd, Clayton VIC 3168\"},\n",
    "    {\"name\": \"Royal Melbourne Hospital\", \"identifier\": \"rmh\", \"address\": \"The Royal Melbourne Hospital, 300 Grattan St, Parkville VIC 3052\"},\n",
    "    {\"name\": \"The Alfred\", \"identifier\": \"thealfred\", \"address\": \"The Alfred Hospital, 55 Commercial Rd, Melbourne VIC 3004\"},\n",
    "    {\"name\": \"Box Hill Hospital\", \"identifier\": \"boxhillhospital\", \"address\": \"Box Hill Hospital, 5 Arnold St\"},\n",
    "    {\"name\": \"Dandenong Hospital\", \"identifier\": \"dandenonghospital\", \"address\": \"Dandenong Hospital: Emergency Department, David Street, Dandenong VIC, Australia\"},\n",
    "    {\"name\": \"Footscray Hospital\", \"identifier\": \"footscrayhospital\", \"address\": \"Footscray Hospital, 160 Gordon St, Footscray VIC 3011\"},\n",
    "    {\"name\": \"Frankston Hospital\", \"identifier\": \"frankstonhospital\", \"address\": \"Frankston Hospital : Emergency Department, Hastings Road, Frankston VIC, Australia\"},\n",
    "    {\"name\": \"The Northern Hospital\", \"identifier\": \"thenorthernhospital\", \"address\": \"The Northern Hospital: Emergency Department, Cooper Street, Epping VIC, Australia\"},\n",
    "    {\"name\": \"Peninsula Health\", \"identifier\": \"peninsulahealth\", \"address\": \"Rosebud Hospital: Emergency Department, Point Nepean Road, Capel Sound VIC, Australia\"},\n",
    "    {\"name\": \"St Vincent's Hospital\", \"identifier\": \"stvincentshospital\", \"address\": \"41 Victoria Parade, Fitzroy VIC 3065, Australia\"},\n",
    "    {\"name\": \"Sunshine Hospital\", \"identifier\": \"sunshinehospital\", \"address\": \"Sunshine Hospital: Emergency Room, Furlong Road, Saint Albans VIC, Australia\"},\n",
    "    {\"name\": \"Albury Wodonga Health\", \"identifier\": \"alburywodongahealth\", \"address\": \"Albury Wodonga Health, Wodonga Campus, Vermont Street, Wodonga VIC, Australia\"},\n",
    "    {\"name\": \"Bairnsdale Regional Health\", \"identifier\": \"bairnsdaleregionalhealth\", \"address\": \"Bairnsdale Regional Health Service, Bairnsdale VIC, Australia\"},\n",
    "    {\"name\": \"Ballarat Health\", \"identifier\": \"ballarathealth\", \"address\": \"Ballarat Health Services, Drummond Street North, Ballarat Central VIC, Australia\"},\n",
    "    {\"name\": \"Barwon Health\", \"identifier\": \"barwonhealth\", \"address\": \"University Hospital Geelong, Barwon Health, Bellerine Street, Geelong VIC, Australia\"},\n",
    "    {\"name\": \"Bendigo Health Care Group\", \"identifier\": \"bendigohealth\", \"address\": \"Bendigo Health, Barnard Street, Bendigo VIC, Australia\"},\n",
    "    {\"name\": \"Echuca Regional Health\", \"identifier\": \"echucaregionalhealth\", \"address\": \"Echuca Regional Health: Emergency Department, Service Street, Echuca VIC, Australia\"},\n",
    "    {\"name\": \"Goulburn Valley Health\", \"identifier\": \"goulburnvalleyhealth\", \"address\": \"Goulburn Valley Health - Emergency Department, Graham Street, Shepparton VIC, Australia\"},\n",
    "    {\"name\": \"Melton Health\", \"identifier\": \"meltonhealth\", \"address\": \"Melton Health Services, Barries Road, Melton West VIC, Australia\"},\n",
    "    {\"name\": \"Mildura Base Hospital\", \"identifier\": \"mildurabasehospital\", \"address\": \"Mildura Base Hospital : Emergency Room, Ontario Avenue, Mildura VIC, Australia\"},\n",
    "    {\"name\": \"Northeast Health Wangaratta\", \"identifier\": \"northeasthealth\", \"address\": \"Northeast Health Wangaratta: Emergency Department, Green Street, Wangaratta VIC, Australia\"},\n",
    "    {\"name\": \"Swan Hill District Health\", \"identifier\": \"swanhilldistricthealth\", \"address\": \"Swan Hill District Health: Emergency Room, Splatt Street, Swan Hill VIC, Australia\"},\n",
    "    {\"name\": \"Wimmera Health Care Group\", \"identifier\": \"wimmerahealth\", \"address\": \"Wimmera Health Care Group, Baillie Street, Horsham VIC, Australia\"}\n",
    "]"
   ]
  },
  {
   "cell_type": "markdown",
   "metadata": {},
   "source": [
    "Now calling the free API for each bookmarked location:"
   ]
  },
  {
   "cell_type": "code",
   "execution_count": null,
   "metadata": {
    "collapsed": true
   },
   "outputs": [],
   "source": [
    "url = 'http://www.gps-coordinates.net/api/'\n",
    "\n",
    "for hospital_dict in hospitals:\n",
    "    response = requests.get(url + hospital_dict['identifier'])\n",
    "    data = response.json()\n",
    "    if data['responseCode'] == '200':\n",
    "        hospital_dict['latitude'] = data['latitude']\n",
    "        hospital_dict['longitude'] = data['longitude']\n",
    "    else:\n",
    "        print('{} failed to retrieve coordinates.'.format(hospital_dict['name']))"
   ]
  },
  {
   "cell_type": "code",
   "execution_count": null,
   "metadata": {
    "collapsed": true
   },
   "outputs": [],
   "source": [
    "hospital_data = pd.DataFrame(hospitals)"
   ]
  },
  {
   "cell_type": "code",
   "execution_count": 12,
   "metadata": {},
   "outputs": [
    {
     "data": {
      "text/html": [
       "<div>\n",
       "<style>\n",
       "    .dataframe thead tr:only-child th {\n",
       "        text-align: right;\n",
       "    }\n",
       "\n",
       "    .dataframe thead th {\n",
       "        text-align: left;\n",
       "    }\n",
       "\n",
       "    .dataframe tbody tr th {\n",
       "        vertical-align: top;\n",
       "    }\n",
       "</style>\n",
       "<table border=\"1\" class=\"dataframe\">\n",
       "  <thead>\n",
       "    <tr style=\"text-align: right;\">\n",
       "      <th></th>\n",
       "      <th>Unnamed: 0</th>\n",
       "      <th>address</th>\n",
       "      <th>identifier</th>\n",
       "      <th>latitude</th>\n",
       "      <th>longitude</th>\n",
       "      <th>name</th>\n",
       "    </tr>\n",
       "  </thead>\n",
       "  <tbody>\n",
       "    <tr>\n",
       "      <th>0</th>\n",
       "      <td>0</td>\n",
       "      <td>145 Studley Rd, Heidelberg VIC 3084</td>\n",
       "      <td>austinhealth</td>\n",
       "      <td>-37.756676</td>\n",
       "      <td>145.059250</td>\n",
       "      <td>Austin Health</td>\n",
       "    </tr>\n",
       "    <tr>\n",
       "      <th>1</th>\n",
       "      <td>1</td>\n",
       "      <td>246 Clayton Rd, Clayton VIC 3168</td>\n",
       "      <td>monashhealth</td>\n",
       "      <td>-37.920377</td>\n",
       "      <td>145.123969</td>\n",
       "      <td>Monash Health</td>\n",
       "    </tr>\n",
       "    <tr>\n",
       "      <th>2</th>\n",
       "      <td>2</td>\n",
       "      <td>The Royal Melbourne Hospital, 300 Grattan St, ...</td>\n",
       "      <td>rmh</td>\n",
       "      <td>-37.799323</td>\n",
       "      <td>144.956691</td>\n",
       "      <td>Royal Melbourne Hospital</td>\n",
       "    </tr>\n",
       "    <tr>\n",
       "      <th>3</th>\n",
       "      <td>3</td>\n",
       "      <td>The Alfred Hospital, 55 Commercial Rd, Melbour...</td>\n",
       "      <td>thealfred</td>\n",
       "      <td>-37.845670</td>\n",
       "      <td>144.981920</td>\n",
       "      <td>The Alfred</td>\n",
       "    </tr>\n",
       "    <tr>\n",
       "      <th>4</th>\n",
       "      <td>4</td>\n",
       "      <td>Box Hill Hospital, 5 Arnold St</td>\n",
       "      <td>boxhillhospital</td>\n",
       "      <td>-37.814519</td>\n",
       "      <td>145.118453</td>\n",
       "      <td>Box Hill Hospital</td>\n",
       "    </tr>\n",
       "    <tr>\n",
       "      <th>5</th>\n",
       "      <td>5</td>\n",
       "      <td>Dandenong Hospital: Emergency Department, Davi...</td>\n",
       "      <td>dandenonghospital</td>\n",
       "      <td>-37.976896</td>\n",
       "      <td>145.219547</td>\n",
       "      <td>Dandenong Hospital</td>\n",
       "    </tr>\n",
       "    <tr>\n",
       "      <th>6</th>\n",
       "      <td>6</td>\n",
       "      <td>Footscray Hospital, 160 Gordon St, Footscray V...</td>\n",
       "      <td>footscrayhospital</td>\n",
       "      <td>-37.792198</td>\n",
       "      <td>144.886918</td>\n",
       "      <td>Footscray Hospital</td>\n",
       "    </tr>\n",
       "    <tr>\n",
       "      <th>7</th>\n",
       "      <td>7</td>\n",
       "      <td>Frankston Hospital : Emergency Department, Has...</td>\n",
       "      <td>frankstonhospital</td>\n",
       "      <td>-38.149687</td>\n",
       "      <td>145.127675</td>\n",
       "      <td>Frankston Hospital</td>\n",
       "    </tr>\n",
       "    <tr>\n",
       "      <th>8</th>\n",
       "      <td>8</td>\n",
       "      <td>The Northern Hospital: Emergency Department, C...</td>\n",
       "      <td>thenorthernhospital</td>\n",
       "      <td>-37.653196</td>\n",
       "      <td>145.015073</td>\n",
       "      <td>The Northern Hospital</td>\n",
       "    </tr>\n",
       "    <tr>\n",
       "      <th>9</th>\n",
       "      <td>9</td>\n",
       "      <td>Rosebud Hospital: Emergency Department, Point ...</td>\n",
       "      <td>peninsulahealth</td>\n",
       "      <td>-38.362104</td>\n",
       "      <td>144.884681</td>\n",
       "      <td>Peninsula Health</td>\n",
       "    </tr>\n",
       "    <tr>\n",
       "      <th>10</th>\n",
       "      <td>10</td>\n",
       "      <td>41 Victoria Parade, Fitzroy VIC 3065, Australia</td>\n",
       "      <td>stvincentshospital</td>\n",
       "      <td>-37.807652</td>\n",
       "      <td>144.974980</td>\n",
       "      <td>St Vincent's Hospital</td>\n",
       "    </tr>\n",
       "    <tr>\n",
       "      <th>11</th>\n",
       "      <td>11</td>\n",
       "      <td>Sunshine Hospital: Emergency Room, Furlong Roa...</td>\n",
       "      <td>sunshinehospital</td>\n",
       "      <td>-37.760353</td>\n",
       "      <td>144.815235</td>\n",
       "      <td>Sunshine Hospital</td>\n",
       "    </tr>\n",
       "    <tr>\n",
       "      <th>12</th>\n",
       "      <td>12</td>\n",
       "      <td>Albury Wodonga Health, Wodonga Campus, Vermont...</td>\n",
       "      <td>alburywodongahealth</td>\n",
       "      <td>-36.131921</td>\n",
       "      <td>146.879862</td>\n",
       "      <td>Albury Wodonga Health</td>\n",
       "    </tr>\n",
       "    <tr>\n",
       "      <th>13</th>\n",
       "      <td>13</td>\n",
       "      <td>Bairnsdale Regional Health Service, Bairnsdale...</td>\n",
       "      <td>bairnsdaleregionalhealth</td>\n",
       "      <td>-37.820287</td>\n",
       "      <td>147.608091</td>\n",
       "      <td>Bairnsdale Regional Health</td>\n",
       "    </tr>\n",
       "    <tr>\n",
       "      <th>14</th>\n",
       "      <td>14</td>\n",
       "      <td>Ballarat Health Services, Drummond Street Nort...</td>\n",
       "      <td>ballarathealth</td>\n",
       "      <td>-37.558752</td>\n",
       "      <td>143.847236</td>\n",
       "      <td>Ballarat Health</td>\n",
       "    </tr>\n",
       "    <tr>\n",
       "      <th>15</th>\n",
       "      <td>15</td>\n",
       "      <td>University Hospital Geelong, Barwon Health, Be...</td>\n",
       "      <td>barwonhealth</td>\n",
       "      <td>-38.152104</td>\n",
       "      <td>144.365341</td>\n",
       "      <td>Barwon Health</td>\n",
       "    </tr>\n",
       "    <tr>\n",
       "      <th>16</th>\n",
       "      <td>16</td>\n",
       "      <td>Bendigo Health, Barnard Street, Bendigo VIC, A...</td>\n",
       "      <td>bendigohealth</td>\n",
       "      <td>-36.749617</td>\n",
       "      <td>144.280769</td>\n",
       "      <td>Bendigo Health Care Group</td>\n",
       "    </tr>\n",
       "    <tr>\n",
       "      <th>17</th>\n",
       "      <td>17</td>\n",
       "      <td>Echuca Regional Health: Emergency Department, ...</td>\n",
       "      <td>echucaregionalhealth</td>\n",
       "      <td>-36.138492</td>\n",
       "      <td>144.748215</td>\n",
       "      <td>Echuca Regional Health</td>\n",
       "    </tr>\n",
       "    <tr>\n",
       "      <th>18</th>\n",
       "      <td>18</td>\n",
       "      <td>Goulburn Valley Health - Emergency Department,...</td>\n",
       "      <td>goulburnvalleyhealth</td>\n",
       "      <td>-36.362947</td>\n",
       "      <td>145.405046</td>\n",
       "      <td>Goulburn Valley Health</td>\n",
       "    </tr>\n",
       "    <tr>\n",
       "      <th>19</th>\n",
       "      <td>19</td>\n",
       "      <td>Melton Health Services, Barries Road, Melton W...</td>\n",
       "      <td>meltonhealth</td>\n",
       "      <td>-37.686934</td>\n",
       "      <td>144.558064</td>\n",
       "      <td>Melton Health</td>\n",
       "    </tr>\n",
       "    <tr>\n",
       "      <th>20</th>\n",
       "      <td>20</td>\n",
       "      <td>Mildura Base Hospital : Emergency Room, Ontari...</td>\n",
       "      <td>mildurabasehospital</td>\n",
       "      <td>-34.185653</td>\n",
       "      <td>142.143187</td>\n",
       "      <td>Mildura Base Hospital</td>\n",
       "    </tr>\n",
       "    <tr>\n",
       "      <th>21</th>\n",
       "      <td>21</td>\n",
       "      <td>Northeast Health Wangaratta: Emergency Departm...</td>\n",
       "      <td>northeasthealth</td>\n",
       "      <td>-36.355022</td>\n",
       "      <td>146.313985</td>\n",
       "      <td>Northeast Health Wangaratta</td>\n",
       "    </tr>\n",
       "    <tr>\n",
       "      <th>22</th>\n",
       "      <td>22</td>\n",
       "      <td>Swan Hill District Health: Emergency Room, Spl...</td>\n",
       "      <td>swanhilldistricthealth</td>\n",
       "      <td>-35.340708</td>\n",
       "      <td>143.556434</td>\n",
       "      <td>Swan Hill District Health</td>\n",
       "    </tr>\n",
       "    <tr>\n",
       "      <th>23</th>\n",
       "      <td>23</td>\n",
       "      <td>Wimmera Health Care Group, Baillie Street, Hor...</td>\n",
       "      <td>wimmerahealth</td>\n",
       "      <td>-36.712550</td>\n",
       "      <td>142.208812</td>\n",
       "      <td>Wimmera Health Care Group</td>\n",
       "    </tr>\n",
       "  </tbody>\n",
       "</table>\n",
       "</div>"
      ],
      "text/plain": [
       "    Unnamed: 0                                            address  \\\n",
       "0            0                145 Studley Rd, Heidelberg VIC 3084   \n",
       "1            1                   246 Clayton Rd, Clayton VIC 3168   \n",
       "2            2  The Royal Melbourne Hospital, 300 Grattan St, ...   \n",
       "3            3  The Alfred Hospital, 55 Commercial Rd, Melbour...   \n",
       "4            4                     Box Hill Hospital, 5 Arnold St   \n",
       "5            5  Dandenong Hospital: Emergency Department, Davi...   \n",
       "6            6  Footscray Hospital, 160 Gordon St, Footscray V...   \n",
       "7            7  Frankston Hospital : Emergency Department, Has...   \n",
       "8            8  The Northern Hospital: Emergency Department, C...   \n",
       "9            9  Rosebud Hospital: Emergency Department, Point ...   \n",
       "10          10    41 Victoria Parade, Fitzroy VIC 3065, Australia   \n",
       "11          11  Sunshine Hospital: Emergency Room, Furlong Roa...   \n",
       "12          12  Albury Wodonga Health, Wodonga Campus, Vermont...   \n",
       "13          13  Bairnsdale Regional Health Service, Bairnsdale...   \n",
       "14          14  Ballarat Health Services, Drummond Street Nort...   \n",
       "15          15  University Hospital Geelong, Barwon Health, Be...   \n",
       "16          16  Bendigo Health, Barnard Street, Bendigo VIC, A...   \n",
       "17          17  Echuca Regional Health: Emergency Department, ...   \n",
       "18          18  Goulburn Valley Health - Emergency Department,...   \n",
       "19          19  Melton Health Services, Barries Road, Melton W...   \n",
       "20          20  Mildura Base Hospital : Emergency Room, Ontari...   \n",
       "21          21  Northeast Health Wangaratta: Emergency Departm...   \n",
       "22          22  Swan Hill District Health: Emergency Room, Spl...   \n",
       "23          23  Wimmera Health Care Group, Baillie Street, Hor...   \n",
       "\n",
       "                  identifier   latitude   longitude  \\\n",
       "0               austinhealth -37.756676  145.059250   \n",
       "1               monashhealth -37.920377  145.123969   \n",
       "2                        rmh -37.799323  144.956691   \n",
       "3                  thealfred -37.845670  144.981920   \n",
       "4            boxhillhospital -37.814519  145.118453   \n",
       "5          dandenonghospital -37.976896  145.219547   \n",
       "6          footscrayhospital -37.792198  144.886918   \n",
       "7          frankstonhospital -38.149687  145.127675   \n",
       "8        thenorthernhospital -37.653196  145.015073   \n",
       "9            peninsulahealth -38.362104  144.884681   \n",
       "10        stvincentshospital -37.807652  144.974980   \n",
       "11          sunshinehospital -37.760353  144.815235   \n",
       "12       alburywodongahealth -36.131921  146.879862   \n",
       "13  bairnsdaleregionalhealth -37.820287  147.608091   \n",
       "14            ballarathealth -37.558752  143.847236   \n",
       "15              barwonhealth -38.152104  144.365341   \n",
       "16             bendigohealth -36.749617  144.280769   \n",
       "17      echucaregionalhealth -36.138492  144.748215   \n",
       "18      goulburnvalleyhealth -36.362947  145.405046   \n",
       "19              meltonhealth -37.686934  144.558064   \n",
       "20       mildurabasehospital -34.185653  142.143187   \n",
       "21           northeasthealth -36.355022  146.313985   \n",
       "22    swanhilldistricthealth -35.340708  143.556434   \n",
       "23             wimmerahealth -36.712550  142.208812   \n",
       "\n",
       "                           name  \n",
       "0                 Austin Health  \n",
       "1                 Monash Health  \n",
       "2      Royal Melbourne Hospital  \n",
       "3                    The Alfred  \n",
       "4             Box Hill Hospital  \n",
       "5            Dandenong Hospital  \n",
       "6            Footscray Hospital  \n",
       "7            Frankston Hospital  \n",
       "8         The Northern Hospital  \n",
       "9              Peninsula Health  \n",
       "10        St Vincent's Hospital  \n",
       "11            Sunshine Hospital  \n",
       "12        Albury Wodonga Health  \n",
       "13   Bairnsdale Regional Health  \n",
       "14              Ballarat Health  \n",
       "15                Barwon Health  \n",
       "16    Bendigo Health Care Group  \n",
       "17       Echuca Regional Health  \n",
       "18       Goulburn Valley Health  \n",
       "19                Melton Health  \n",
       "20        Mildura Base Hospital  \n",
       "21  Northeast Health Wangaratta  \n",
       "22    Swan Hill District Health  \n",
       "23    Wimmera Health Care Group  "
      ]
     },
     "execution_count": 12,
     "metadata": {},
     "output_type": "execute_result"
    }
   ],
   "source": [
    "hospital_data"
   ]
  },
  {
   "cell_type": "code",
   "execution_count": 112,
   "metadata": {
    "collapsed": true
   },
   "outputs": [],
   "source": [
    "hospital_data.to_csv('../data/processed/hospital_data.csv')"
   ]
  },
  {
   "cell_type": "markdown",
   "metadata": {},
   "source": [
    "Now that we've generated the data, we can just load it here instead:"
   ]
  },
  {
   "cell_type": "code",
   "execution_count": 11,
   "metadata": {
    "collapsed": true
   },
   "outputs": [],
   "source": [
    "hospital_data = pd.read_csv('../data/processed/hospital_data.csv')"
   ]
  },
  {
   "cell_type": "markdown",
   "metadata": {},
   "source": [
    "## Getting Random Points"
   ]
  },
  {
   "cell_type": "markdown",
   "metadata": {},
   "source": [
    "Let's try to get random points. Let's say we have a budget of 100 USD and, with an estimated cost of 0.01 USD per element, 90 SEDs and 2 hospitals per random point for 5 time points, we can get the following number of samples."
   ]
  },
  {
   "cell_type": "code",
   "execution_count": 18,
   "metadata": {},
   "outputs": [
    {
     "data": {
      "text/plain": [
       "11.11111111111111"
      ]
     },
     "execution_count": 18,
     "metadata": {},
     "output_type": "execute_result"
    }
   ],
   "source": [
    "100 / (0.01 * 90 * 2 * 5)"
   ]
  },
  {
   "cell_type": "markdown",
   "metadata": {},
   "source": [
    "So let's sample 10 random points per SED.\n",
    "\n",
    "Our process will be:\n",
    "1. Determine a random point within the SED boundary\n",
    "2. Find the two closest hospitals to that random point\n",
    "3. Find the distance matrix of that point with those two closest hospitals for each of the 5 specified times.\n",
    "4. Save the returned result."
   ]
  },
  {
   "cell_type": "markdown",
   "metadata": {},
   "source": [
    "Let's define a function that returns the two closest hospitals to a given coordinate. "
   ]
  },
  {
   "cell_type": "code",
   "execution_count": 19,
   "metadata": {
    "collapsed": true
   },
   "outputs": [],
   "source": [
    "def hosp_by_dist(latitude, longitude):\n",
    "    new_df = hospital_data\n",
    "    new_df['distances'] = hospital_data.apply(lambda x: distance.distance((latitude, longitude),\n",
    "                                                                (x['latitude'], x['longitude'])).km, \n",
    "                                    axis=1)\n",
    "    sorted_df = new_df.sort_values(by=['distances'])\n",
    "    return sorted_df    "
   ]
  },
  {
   "cell_type": "markdown",
   "metadata": {},
   "source": [
    "Now turning this into a script:"
   ]
  },
  {
   "cell_type": "code",
   "execution_count": 20,
   "metadata": {
    "collapsed": true
   },
   "outputs": [],
   "source": [
    "with open('./google_maps_api_key.txt') as infile:\n",
    "    google_maps_api_key = infile.read().rstrip()"
   ]
  },
  {
   "cell_type": "code",
   "execution_count": 40,
   "metadata": {
    "collapsed": true
   },
   "outputs": [],
   "source": [
    "num_samples = 10"
   ]
  },
  {
   "cell_type": "code",
   "execution_count": 29,
   "metadata": {
    "collapsed": true
   },
   "outputs": [],
   "source": [
    "departure_times = [\n",
    "    \"2019-03-19 09:00\",\n",
    "    \"2019-03-19 13:00\",\n",
    "    \"2019-03-19 17:00\",\n",
    "    \"2019-03-19 21:00\",\n",
    "    \"2019-03-19 00:00\"\n",
    "]"
   ]
  },
  {
   "cell_type": "code",
   "execution_count": 30,
   "metadata": {
    "collapsed": true
   },
   "outputs": [],
   "source": [
    "def classify_locality(name):\n",
    "    if re.match(r\".*Metro.*\", name):\n",
    "        return \"metropolitan\"\n",
    "    else:\n",
    "        return \"rural\""
   ]
  },
  {
   "cell_type": "code",
   "execution_count": 31,
   "metadata": {
    "collapsed": true
   },
   "outputs": [],
   "source": [
    "aest = pytz.timezone(\"Australia/Melbourne\")\n",
    "departure_times_unix = list(map(lambda x: str(int(time.mktime(aest.localize(datetime.datetime.strptime(x,\n",
    "                                                       '%Y-%m-%d %H:%M')).timetuple()))), departure_times))"
   ]
  },
  {
   "cell_type": "code",
   "execution_count": 32,
   "metadata": {},
   "outputs": [
    {
     "data": {
      "text/plain": [
       "['1552946400', '1552960800', '1552975200', '1552989600', '1552914000']"
      ]
     },
     "execution_count": 32,
     "metadata": {},
     "output_type": "execute_result"
    }
   ],
   "source": [
    "departure_times_unix"
   ]
  },
  {
   "cell_type": "code",
   "execution_count": 41,
   "metadata": {},
   "outputs": [
    {
     "name": "stdout",
     "output_type": "stream",
     "text": [
      "Albert Park (Southern Metropolitan) DONE\n",
      "Altona (Western Metropolitan) DONE\n",
      "Bass (Eastern Victoria) DONE\n",
      "Bayswater (Eastern Metropolitan) DONE\n",
      "Bellarine (Western Victoria) DONE\n",
      "Benambra (Northern Victoria) DONE\n",
      "Bendigo East (Northern Victoria) DONE\n",
      "Bendigo West (Northern Victoria) DONE\n",
      "Bentleigh (Southern Metropolitan) DONE\n",
      "Box Hill (Eastern Metropolitan) DONE\n",
      "Brighton (Southern Metropolitan) DONE\n",
      "Broadmeadows (Northern Metropolitan) DONE\n",
      "Brunswick (Northern Metropolitan) DONE\n",
      "Bulleen (Eastern Metropolitan) DONE\n",
      "Bundoora (Northern Metropolitan) DONE\n",
      "Buninyong (Western Victoria) DONE\n",
      "Burwood (Southern Metropolitan) DONE\n",
      "Carrum (South-Eastern Metropolitan) DONE\n",
      "Caulfield (Southern Metropolitan) DONE\n",
      "Clarinda (South-Eastern Metropolitan) DONE\n",
      "Cranbourne (South-Eastern Metropolitan) DONE\n",
      "Croydon (Eastern Metropolitan) DONE\n",
      "Dandenong (South-Eastern Metropolitan) DONE\n",
      "Eildon (Northern Victoria) DONE\n",
      "Eltham (Eastern Metropolitan) DONE\n",
      "Essendon (Western Metropolitan) DONE\n",
      "Euroa (Northern Victoria) DONE\n",
      "Evelyn (Eastern Victoria) DONE\n",
      "Ferntree Gully (Eastern Metropolitan) DONE\n",
      "Footscray (Western Metropolitan) DONE\n",
      "Forest Hill (Eastern Metropolitan) DONE\n",
      "Frankston (South-Eastern Metropolitan) DONE\n",
      "Geelong (Western Victoria) DONE\n",
      "Gembrook (Eastern Victoria) DONE\n",
      "Gippsland East (Eastern Victoria) DONE\n",
      "Gippsland South (Eastern Victoria) DONE\n",
      "ZERO_RESULTS\n",
      "ZERO_RESULTS\n",
      "ERROR occurred, continuing.\n",
      "ZERO_RESULTS\n",
      "ZERO_RESULTS\n",
      "ERROR occurred, continuing.\n",
      "ZERO_RESULTS\n",
      "ZERO_RESULTS\n",
      "ERROR occurred, continuing.\n",
      "ZERO_RESULTS\n",
      "ZERO_RESULTS\n",
      "ERROR occurred, continuing.\n",
      "ZERO_RESULTS\n",
      "ZERO_RESULTS\n",
      "ERROR occurred, continuing.\n",
      "ZERO_RESULTS\n",
      "ZERO_RESULTS\n",
      "ERROR occurred, continuing.\n",
      "ZERO_RESULTS\n",
      "ZERO_RESULTS\n",
      "ERROR occurred, continuing.\n",
      "ZERO_RESULTS\n",
      "ZERO_RESULTS\n",
      "ERROR occurred, continuing.\n",
      "ZERO_RESULTS\n",
      "ZERO_RESULTS\n",
      "ERROR occurred, continuing.\n",
      "ZERO_RESULTS\n",
      "ZERO_RESULTS\n",
      "ERROR occurred, continuing.\n",
      "ZERO_RESULTS\n",
      "ZERO_RESULTS\n",
      "ERROR occurred, continuing.\n",
      "ZERO_RESULTS\n",
      "ZERO_RESULTS\n",
      "ERROR occurred, continuing.\n",
      "ZERO_RESULTS\n",
      "ZERO_RESULTS\n",
      "ERROR occurred, continuing.\n",
      "ZERO_RESULTS\n",
      "ZERO_RESULTS\n",
      "ERROR occurred, continuing.\n",
      "ZERO_RESULTS\n",
      "ZERO_RESULTS\n",
      "ERROR occurred, continuing.\n",
      "Hastings (Eastern Victoria) DONE\n",
      "Hawthorn (Southern Metropolitan) DONE\n",
      "Ivanhoe (Eastern Metropolitan) DONE\n",
      "Kew (Southern Metropolitan) DONE\n",
      "Keysborough (South-Eastern Metropolitan) DONE\n",
      "Kororoit (Western Metropolitan) DONE\n",
      "Lara (Western Victoria) DONE\n",
      "ZERO_RESULTS\n",
      "ZERO_RESULTS\n",
      "ERROR occurred, continuing.\n",
      "ZERO_RESULTS\n",
      "ZERO_RESULTS\n",
      "ERROR occurred, continuing.\n",
      "ZERO_RESULTS\n",
      "ZERO_RESULTS\n",
      "ERROR occurred, continuing.\n",
      "ZERO_RESULTS\n",
      "ZERO_RESULTS\n",
      "ERROR occurred, continuing.\n",
      "ZERO_RESULTS\n",
      "ZERO_RESULTS\n",
      "ERROR occurred, continuing.\n",
      "Lowan (Western Victoria) DONE\n",
      "Macedon (Northern Victoria) DONE\n",
      "Malvern (Southern Metropolitan) DONE\n",
      "Melbourne (Northern Metropolitan) DONE\n",
      "Melton (Western Victoria) DONE\n",
      "ZERO_RESULTS\n",
      "ZERO_RESULTS\n",
      "ERROR occurred, continuing.\n",
      "ZERO_RESULTS\n",
      "ZERO_RESULTS\n",
      "ERROR occurred, continuing.\n",
      "ZERO_RESULTS\n",
      "ZERO_RESULTS\n",
      "ERROR occurred, continuing.\n",
      "ZERO_RESULTS\n",
      "ZERO_RESULTS\n",
      "ERROR occurred, continuing.\n",
      "ZERO_RESULTS\n",
      "ZERO_RESULTS\n",
      "ERROR occurred, continuing.\n",
      "Mildura (Northern Victoria) DONE\n",
      "Mill Park (Northern Metropolitan) DONE\n",
      "Monbulk (Eastern Victoria) DONE\n",
      "Mordialloc (South-Eastern Metropolitan) DONE\n",
      "Mornington (Eastern Victoria) DONE\n",
      "Morwell (Eastern Victoria) DONE\n",
      "Mount Waverley (Eastern Metropolitan) DONE\n",
      "Mulgrave (South-Eastern Metropolitan) DONE\n",
      "Murray Plains (Northern Victoria) DONE\n",
      "Narracan (Eastern Victoria) DONE\n",
      "Narre Warren North (South-Eastern Metrop DONE\n",
      "Narre Warren South (South-Eastern Metrop DONE\n",
      "Nepean (Eastern Victoria) DONE\n",
      "Niddrie (Western Metropolitan) DONE\n",
      "Northcote (Northern Metropolitan) DONE\n",
      "Oakleigh (Southern Metropolitan) DONE\n",
      "Ovens Valley (Northern Victoria) DONE\n",
      "Pascoe Vale (Northern Metropolitan) DONE\n",
      "Polwarth (Western Victoria) DONE\n",
      "Prahran (Southern Metropolitan) DONE\n",
      "Preston (Northern Metropolitan) DONE\n",
      "Richmond (Northern Metropolitan) DONE\n",
      "Ringwood (Eastern Metropolitan) DONE\n",
      "Ripon (Western Victoria) DONE\n",
      "Rowville (South-Eastern Metropolitan) DONE\n",
      "Sandringham (Southern Metropolitan) DONE\n",
      "Shepparton (Northern Victoria) DONE\n",
      "South Barwon (Western Victoria) DONE\n",
      "South-West Coast (Western Victoria) DONE\n",
      "St Albans (Western Metropolitan) DONE\n",
      "Sunbury (Western Metropolitan) DONE\n",
      "Sydenham (Western Metropolitan) DONE\n",
      "Tarneit (Western Metropolitan) DONE\n",
      "Thomastown (Northern Metropolitan) DONE\n",
      "Warrandyte (Eastern Metropolitan) DONE\n",
      "Wendouree (Western Victoria) DONE\n",
      "Werribee (Western Metropolitan) DONE\n",
      "Williamstown (Western Metropolitan) DONE\n",
      "Yan Yean (Northern Victoria) DONE\n",
      "Yuroke (Northern Metropolitan) DONE\n",
      "25\n"
     ]
    }
   ],
   "source": [
    "error_count = 0\n",
    "\n",
    "for shape in vic_shapes[:-2]: # excluding No usual address and migratory/offshore/shipping\n",
    "    region_polygon = Polygon(shape.shape.points, reverse_lat_long=True)\n",
    "    etas = []\n",
    "    for n in range(num_samples):\n",
    "\n",
    "        origin_coords = region_polygon.get_random_point_within()\n",
    "        ori_str = ','.join(origin_coords)\n",
    "\n",
    "        hosps = hosp_by_dist(origin_coords[0], origin_coords[1])\n",
    "        closest = hosps[:2]\n",
    "        dest_str_list = [','.join((str(x[1]['latitude']), str(x[1]['longitude']))) for x in closest.iterrows()]\n",
    "        dest_str = '|'.join(dest_str_list)\n",
    "            \n",
    "        for dt_index, departure_time in enumerate(departure_times_unix):\n",
    "\n",
    "            url = 'https://maps.googleapis.com/maps/api/distancematrix/json'\n",
    "\n",
    "            payload = {'mode': 'driving',\n",
    "                       'origins': ori_str,\n",
    "                       'destinations': dest_str,\n",
    "                       'key': google_maps_api_key,\n",
    "                       'departure_time': departure_time\n",
    "                    }\n",
    "\n",
    "            response = requests.get(url, params=payload)\n",
    "            data = response.json()\n",
    "\n",
    "            # Vectorise?\n",
    "            for i, row in enumerate(data.get('rows')): # corresponds to origins\n",
    "                entry = {}\n",
    "                entry['sed_id'] = shape.record[0]\n",
    "                entry['sed_name'] = shape.record[2]\n",
    "                entry['origin_latitude'] = origin_coords[0]\n",
    "                entry['origin_longitude'] = origin_coords[1]\n",
    "                entry['departure_datetime_unix'] = departure_time\n",
    "                entry['departure_datetime_string'] = departure_times[dt_index]\n",
    "                entry['type'] = classify_locality(shape.record[2])\n",
    "                all_destinations = {}\n",
    "                entry['raw_data'] = data\n",
    "                for j, element in enumerate(row.get('elements')): # corresponds to destination\n",
    "                    if element.get('status') == 'OK':\n",
    "                        all_destinations[closest.iloc[j].get('name')] = element.get('duration_in_traffic').get('value') # in seconds\n",
    "                    else:\n",
    "                        print(element.get('status'))\n",
    "                        all_destinations[closest.iloc[j].get('name')] = None\n",
    "                entry['all_destinations'] = all_destinations\n",
    "                try:\n",
    "                    entry['closest_time_to_arrival'] = min(all_destinations.values())\n",
    "                    entry['closest_destination'] = min(all_destinations, key=all_destinations.get)\n",
    "                    entry['second_closest_time_to_arrival'] = max(all_destinations.values())\n",
    "                    entry['second_closest_destination'] = max(all_destinations, key=all_destinations.get)\n",
    "                except TypeError: # NoneType comparison\n",
    "                    entry['closest_time_to_arrival'] = None\n",
    "                    entry['closest_destination'] = None\n",
    "                    entry['second_closest_time_to_arrival'] = None\n",
    "                    entry['second_closest_destination'] = None\n",
    "\n",
    "                    error_count += 1\n",
    "                    print(\"ERROR occurred, continuing.\")\n",
    "                etas.append(entry)\n",
    "\n",
    "    df = pd.DataFrame(etas)\n",
    "\n",
    "    # To save results to limit number of API calls\n",
    "    filename = datetime.datetime.now().strftime(\"%Y%m%d-%H%M%S\")\n",
    "    df.to_csv('../data/processed/traveltimes/with_departure_time/traveltimes_{}_{}.csv'.format(shape.record[0], filename))\n",
    "    \n",
    "    print(\"{} DONE\".format(shape.record[2]))\n",
    "print(error_count)"
   ]
  },
  {
   "cell_type": "markdown",
   "metadata": {},
   "source": [
    "# Plotting Random Points"
   ]
  },
  {
   "cell_type": "markdown",
   "metadata": {},
   "source": [
    "## Victoria as a Whole"
   ]
  },
  {
   "cell_type": "code",
   "execution_count": 42,
   "metadata": {
    "collapsed": true
   },
   "outputs": [],
   "source": [
    "base_dir = '../data/processed/traveltimes/with_departure_time/'\n",
    "vic_data = list(map(lambda x: pd.read_csv(base_dir + x), os.listdir(base_dir)))"
   ]
  },
  {
   "cell_type": "code",
   "execution_count": 48,
   "metadata": {
    "collapsed": true
   },
   "outputs": [],
   "source": [
    "def plot_points(zoom_scale): # relies on global variables vic_data, hospital_data\n",
    "    centre = [-37.8, 145]\n",
    "    bbox = [centre[0]-zoom_scale, centre[0]+zoom_scale,\n",
    "            centre[1]-zoom_scale, centre[1]+zoom_scale]\n",
    "\n",
    "    plt.figure(figsize=(12,12))\n",
    "    m = Basemap(projection='merc',llcrnrlat=bbox[0],urcrnrlat=bbox[1],\n",
    "                llcrnrlon=bbox[2],urcrnrlon=bbox[3],lat_ts=10,resolution='i')\n",
    "    m.drawcoastlines()\n",
    "    m.fillcontinents(alpha=0.2)\n",
    "    m.drawparallels(np.arange(bbox[0],bbox[1],(bbox[1]-bbox[0])/5),labels=[1,0,0,0])\n",
    "    m.drawmeridians(np.arange(bbox[2],bbox[3],(bbox[3]-bbox[2])/5),labels=[0,0,0,1],rotation=90)\n",
    "    m.drawmapboundary(fill_color='white')\n",
    "\n",
    "    def convert(origin_latitude, origin_longitude):\n",
    "        return m(origin_longitude, origin_latitude)\n",
    "\n",
    "    m_coords = []\n",
    "\n",
    "    for i, d in enumerate(vic_data):\n",
    "        m_coords.append(d[['origin_latitude','origin_longitude']].apply(lambda x: convert(*x), axis=1))\n",
    "\n",
    "    for i, cs in enumerate(m_coords):\n",
    "        xs = [c[0] for c in cs]\n",
    "        ys = [c[1] for c in cs]\n",
    "        m.scatter(xs,ys,marker='D',c=np.random.rand(3), s=4)\n",
    "\n",
    "    hosp_coords = hospital_data[['latitude', 'longitude']].apply(lambda x: convert(*x), axis=1)\n",
    "    for i, c in enumerate(hosp_coords):\n",
    "        min_c = convert(bbox[0], bbox[2])\n",
    "        max_c = convert(bbox[1], bbox[3])\n",
    "        if c[0] > min_c[0] and c[0] < max_c[0] and c[1] > min_c[1] and c[1] < max_c[1]:\n",
    "            m.plot(c[0], c[1], 'r*')\n",
    "            plt.text(c[0], c[1], hospital_data.iloc[i]['name'], fontsize=12)\n",
    "\n",
    "\n",
    "    plt.show()"
   ]
  },
  {
   "cell_type": "code",
   "execution_count": 51,
   "metadata": {},
   "outputs": [
    {
     "data": {
      "image/png": "[encoded data removed]",
      "text/plain": [
       "<matplotlib.figure.Figure at 0x7fa5114b0278>"
      ]
     },
     "metadata": {},
     "output_type": "display_data"
    }
   ],
   "source": [
    "plot_points(0.4)"
   ]
  },
  {
   "cell_type": "code",
   "execution_count": 50,
   "metadata": {},
   "outputs": [
    {
     "data": {
      "image/png": "[encoded data removed]",
      "text/plain": [
       "<matplotlib.figure.Figure at 0x7fa511342ac8>"
      ]
     },
     "metadata": {},
     "output_type": "display_data"
    }
   ],
   "source": [
    "plot_points(4)"
   ]
  },
  {
   "cell_type": "code",
   "execution_count": null,
   "metadata": {
    "collapsed": true
   },
   "outputs": [],
   "source": []
  }
 ],
 "metadata": {
  "kernelspec": {
   "display_name": "Python 3",
   "language": "python",
   "name": "python3"
  },
  "language_info": {
   "codemirror_mode": {
    "name": "ipython",
    "version": 3
   },
   "file_extension": ".py",
   "mimetype": "text/x-python",
   "name": "python",
   "nbconvert_exporter": "python",
   "pygments_lexer": "ipython3",
   "version": "3.6.8"
  }
 },
 "nbformat": 4,
 "nbformat_minor": 2
}
